{
 "cells": [
  {
   "cell_type": "code",
   "execution_count": 1,
   "id": "03275b32-1443-42f3-8a35-20d064ea9caf",
   "metadata": {},
   "outputs": [],
   "source": [
    "%matplotlib qt\n",
    "import numpy as np\n",
    "import matplotlib.pyplot as plt\n",
    "\n",
    "## commnet this block as it is specifically for authors machine\n",
    "import sys\n",
    "import platform\n",
    "if platform.system() == 'Darwin':\n",
    "    sys.path.append('/Users/jiadongdan/Dropbox/stempy')\n",
    "else:\n",
    "    sys.path.append('D:\\\\Dropbox\\\\stempy')\n",
    "## commnet this block as it is specifically for authors machine\n",
    "\n",
    "\n",
    "from stempy.io import *\n",
    "from stempy.utils import *\n",
    "from stempy.plot import *\n",
    "from stempy.datasets import *\n",
    "from stempy.feature import *\n",
    "from stempy.manifold import *\n",
    "from stempy.clustering import *\n",
    "from stempy.spatial import *\n",
    "from stempy.signal import *"
   ]
  },
  {
   "cell_type": "code",
   "execution_count": 2,
   "id": "47868ddd-ea17-4196-9cd3-76d6a47fc268",
   "metadata": {},
   "outputs": [],
   "source": [
    "from matplotlib.patches import Polygon"
   ]
  },
  {
   "cell_type": "markdown",
   "id": "cd212bdb-9c04-424f-aa51-7e8601179f66",
   "metadata": {},
   "source": [
    "## Load data"
   ]
  },
  {
   "cell_type": "code",
   "execution_count": 3,
   "id": "d57f984c-cdf9-40ef-af73-b2a6b2cdd00a",
   "metadata": {},
   "outputs": [],
   "source": [
    "ds = load_small_mose2_clean()\n",
    "img = ds.image\n",
    "pts = ds.pts\n",
    "size = get_patch_size(img)\n",
    "\n",
    "hh = lattice_map(img)\n",
    "threshold = 0.7\n",
    "pp = local_max(hh, min_distance=12, threshold=threshold, plot=False)"
   ]
  },
  {
   "cell_type": "code",
   "execution_count": 4,
   "id": "7a7d31f9-a2b8-41f1-b7a8-e7eb6afc5d79",
   "metadata": {},
   "outputs": [],
   "source": [
    "dp = r'D:\\Dropbox\\notebook_by_projects\\auto_hierarchy'+'\\\\'\n",
    "pos = load_pickle(dp+'pos.pkl')\n",
    "lbs = load_pickle(dp+'lbs.pkl')"
   ]
  },
  {
   "cell_type": "markdown",
   "id": "75a0e241-e7ee-4f4b-89c1-54fce7f8b493",
   "metadata": {},
   "source": [
    "## Identify motif-cells"
   ]
  },
  {
   "cell_type": "code",
   "execution_count": 5,
   "id": "6c8fcd2c-9015-4e13-9044-6314a36272c0",
   "metadata": {},
   "outputs": [],
   "source": [
    "aa = HexCells(pp, dx=15, dy=7)\n",
    "aa.set_cell_lbs(pos, lbs)"
   ]
  },
  {
   "cell_type": "markdown",
   "id": "dfa7e324-4d0e-43cf-b582-48158aefb4f9",
   "metadata": {},
   "source": [
    "## Connect motif-cells"
   ]
  },
  {
   "cell_type": "code",
   "execution_count": 6,
   "id": "f1ccead7-5e8e-4fa5-a5c0-99dc43aaf59f",
   "metadata": {},
   "outputs": [
    {
     "data": {
      "image/png": "[encoded data removed]",
      "text/html": [
       "<div style=\"vertical-align: middle;\"><strong>3</strong> </div><div class=\"cmap\"><img alt=\"3 colormap\" title=\"3\" style=\"border: 1px solid #555;\" src=\"data:image/png;base64,iVBORw0KGgoAAAANSUhEUgAAACgAAAAoCAYAAACM/rhtAAAADXRFWHRUaXRsZQBsZXZlbC0zZ8mOhwAAABN0RVh0RGVzY3JpcHRpb24AbGV2ZWwtM1AHE3cAAABsSURBVHic7ddBDYAwEAXRXYKcVgNSUIIX0FRBRcRskx7mCfiZ7KnN9rYZRcY9MiIir6ds86gaWsVAykDKQMpAykDKQMpAykBq+8Ccs+x1vsT2FzxXjPav+2nahoGUgZSBlIGUgZSBlIGUgdQPPJcLARDZmCUAAAAASUVORK5CYII=\"></div><div style=\"vertical-align: middle; max-width: 258px; display: flex; justify-content: space-between;\">"
      ],
      "text/plain": [
       "<stempy.spatial.hexcells3.ConnectedCells at 0x13d1d24dd30>"
      ]
     },
     "execution_count": 6,
     "metadata": {},
     "output_type": "execute_result"
    }
   ],
   "source": [
    "cs = aa.get_connected_cells(max_area=20, colors=np.array(['white','#003e7c', '#a8003b', 'C2', 'C3']))\n",
    "cs.pop(1)"
   ]
  },
  {
   "cell_type": "markdown",
   "id": "6b5df586-8b58-4b32-9c65-edb89d2c5e49",
   "metadata": {},
   "source": [
    "## Construct hierarchy (graph)"
   ]
  },
  {
   "cell_type": "code",
   "execution_count": 7,
   "id": "2c61b744-5eab-4a63-acf1-64ee70eafc1f",
   "metadata": {},
   "outputs": [],
   "source": [
    "bb = HGraph(cs)\n",
    "#h = bb.graph\n",
    "bb.update_pos(1, shift=2.5)\n",
    "bb.update_pos(7, shift=2.5)"
   ]
  },
  {
   "cell_type": "code",
   "execution_count": null,
   "id": "6d4e9608-80f7-4c92-85ed-564cb83a23db",
   "metadata": {},
   "outputs": [],
   "source": []
  },
  {
   "cell_type": "code",
   "execution_count": null,
   "id": "2513805e-5ae2-400d-bf66-2d4d93895700",
   "metadata": {},
   "outputs": [],
   "source": []
  },
  {
   "cell_type": "code",
   "execution_count": null,
   "id": "525195bf-2d87-45e1-9610-5bfd6cc03266",
   "metadata": {},
   "outputs": [],
   "source": []
  },
  {
   "cell_type": "code",
   "execution_count": null,
   "id": "7ebcdb8e-f46c-4054-9358-a75590a6885b",
   "metadata": {},
   "outputs": [],
   "source": []
  },
  {
   "cell_type": "code",
   "execution_count": 8,
   "id": "0d716a19-4228-4b4e-894f-8e012dd6ec21",
   "metadata": {},
   "outputs": [],
   "source": [
    "def plot_pos_lbs(ax, pos, lbs, **kwagrs):\n",
    "    color_list = ['C0', 'C1', 'C4', 'C2']\n",
    "    colors = colors_from_lbs(lbs, colors=color_list)\n",
    "    ax.scatter(pos[:, 0], pos[:, 1], c=colors, **kwagrs)\n",
    "    ax.set_xticks([])\n",
    "    ax.set_yticks([])\n",
    "    \n",
    "def plot_connected_cells(ax, aa, s=0.5):\n",
    "    plot_pos_lbs(ax, pos, lbs, s=s)\n",
    "    cell_lbs = aa.cell_lbs\n",
    "    for i, e in enumerate(aa.regions):\n",
    "        if cell_lbs[i] in [1, 2]:\n",
    "            poly = Polygon(aa.pts[e], alpha=1, ec='#2d3742', fc='none', lw=0.5)\n",
    "            ax.add_patch(poly)\n",
    "\n",
    "def plot_cell_image(ax, aa):\n",
    "    img = aa.image.copy().astype(int)\n",
    "    img[img==-1] = 5\n",
    "    # convert img to rgba\n",
    "    colors_array = to_rgba(['#cee4cc', '#003e7c', '#a8003b', 'white', 'white', 'white'])\n",
    "    rgba = colors_array[img]\n",
    "    ax.imshow(rgba, origin='lower')\n",
    "\n",
    "    ax.set_xticks(np.arange(img.shape[1]+1)-.5, minor=True)\n",
    "    ax.set_yticks(np.arange(img.shape[0]+1)-.5, minor=True)\n",
    "    ax.tick_params(axis='both', which='minor', length=0)\n",
    "    ax.grid(which=\"minor\", color=\"w\", linestyle='-', linewidth=0.4)\n",
    "    ax.set_xticks([])\n",
    "    ax.set_yticks([])\n",
    "    \n",
    "def plot_hierarchy(ax, bb, zoom=0.008, colors=None):\n",
    "    if colors is None:\n",
    "        colors = ['#003e7c', '#a8003b']\n",
    "    bb.plot(ax, zoom=zoom)\n",
    "    ax.set_yticks([0,1,2,3,4,5])\n",
    "    ax.set_yticklabels(['3', '4', '5', '6', '14', '15'], fontsize=6)\n",
    "    for i, (x, y) in enumerate(bb.pos):\n",
    "        if i == 0:\n",
    "            ax.text(x+0.9, y, '(10)', ha='center', va='center', fontsize=4)\n",
    "        elif i == 6:\n",
    "            ax.text(x, y+0.5, '(1)', ha='center', va='center', fontsize=4)\n",
    "        elif i == 7:\n",
    "            ax.text(x, y+0.6, '(1)', ha='center', va='center', fontsize=4)\n",
    "        elif i == 2:\n",
    "            ax.text(x, y+0.5, '(1)', ha='center', va='center', fontsize=4)\n",
    "        elif i == 4:\n",
    "            ax.text(x+1, y, '(1)', ha='center', va='center', fontsize=4)\n",
    "        elif i == 8:\n",
    "            ax.text(x+1, y, '(1)', ha='center', va='center', fontsize=4)\n",
    "        else:\n",
    "            ax.text(x+0.9, y, '(1)', ha='center', va='center', fontsize=4)"
   ]
  },
  {
   "cell_type": "code",
   "execution_count": null,
   "id": "0acb5908-e411-41ae-bdb5-e89825f45252",
   "metadata": {},
   "outputs": [],
   "source": []
  },
  {
   "cell_type": "code",
   "execution_count": 9,
   "id": "a1393b5b-cf69-49b1-bb3e-b68722f18186",
   "metadata": {},
   "outputs": [],
   "source": [
    "from matplotlib.patches import ArrowStyle\n",
    "arrow_style = ArrowStyle.Simple(head_length=0.1/2, head_width=0.1/2, tail_width=0.1/8)\n",
    "\n",
    "def plot_uv1(ax, aa, **kwargs):\n",
    "    ss= 65\n",
    "    rect = plt.Rectangle(xy=(1000-ss, 24), width=ss, height=ss, ec='none', fc='white', transform=ax.transData)\n",
    "    ax.add_patch(rect)\n",
    "    \n",
    "    u = aa.u\n",
    "    v = aa.v\n",
    "    p0 = np.array([950, 60])\n",
    "    ax_add_arrow(ax, p0, u+p0, **kwargs)\n",
    "    ax_add_arrow(ax, p0, v+p0, **kwargs)\n",
    "    ax.text(x=960, y=83, s=r'$\\vec{u}$', ha='center', va='center', transform=ax.transData, fontsize=2)\n",
    "    ax.text(x=960, y=40, s=r'$\\vec{v}$', ha='center', va='center', transform=ax.transData, fontsize=2)\n",
    "\n",
    "    \n",
    "def plot_uv2(ax, aa, **kwargs):\n",
    "    ss= 5\n",
    "    rect = plt.Rectangle(xy=(32, -0.5), width=ss, height=ss, ec='none', fc='white', transform=ax.transData)\n",
    "    ax.add_patch(rect)\n",
    "    \n",
    "    u = [0, 1]\n",
    "    v = [1, 0]\n",
    "    p0 = np.array([33, 0.5])\n",
    "    ax_add_arrow(ax, p0, u+p0, zorder=5, **kwargs)\n",
    "    ax_add_arrow(ax, p0, v+p0, zorder=5, **kwargs)\n",
    "    ax.text(x=32.5, y=1, s=r'$\\vec{u}^{\\prime}$', ha='center', va='center', transform=ax.transData, fontsize=2)\n",
    "    ax.text(x=33.5, y=0, s=r'$\\vec{v}^{\\prime}$', ha='center', va='center', transform=ax.transData, fontsize=2)\n"
   ]
  },
  {
   "cell_type": "code",
   "execution_count": null,
   "id": "1e419682-da50-4114-8f02-5afe499913fa",
   "metadata": {},
   "outputs": [],
   "source": []
  },
  {
   "cell_type": "code",
   "execution_count": 11,
   "id": "fb80c01d-dc57-4f31-bd0e-0dc01b109bf7",
   "metadata": {},
   "outputs": [
    {
     "data": {
      "text/plain": [
       "Text(0.8847, 0.1317, 'Construct hierarchy')"
      ]
     },
     "execution_count": 11,
     "metadata": {},
     "output_type": "execute_result"
    }
   ],
   "source": [
    "fig = plt.figure(figsize=(7.2, 7.2/3.5))\n",
    "ax1, ax2, ax3, ax4 = h_axes(fig, n=4, top=0.85, left=1/40, right=1/50, wspace=0.3, ratios=[1,1,1,1.2], h=1)\n",
    "shift_ax(ax4, right=0.015)\n",
    "\n",
    "plot_pos_lbs(ax1, pos, lbs, s=0.3)\n",
    "plot_connected_cells(ax2, aa, s=0.3)\n",
    "ax2.set_xlim(50, 1000)\n",
    "ax2.set_ylim(24, 1000)\n",
    "ax1.set_xlim(50, 1000)\n",
    "ax1.set_ylim(24, 1000) \n",
    "plot_cell_image(ax3, aa)\n",
    "plot_hierarchy(ax4, bb)\n",
    "\n",
    "for ax in [ax1, ax2, ax3]:\n",
    "    for axis in ['top','bottom','left','right']:\n",
    "        ax.spines[axis].set_linewidth(0.25)\n",
    "\n",
    "ax4.spines['left'].set_linewidth(0.5)\n",
    "ax4.tick_params(width=0.5, length=2)\n",
    "\n",
    "connect_by_fancyarrow(ax1, ax2, 'h')\n",
    "connect_by_fancyarrow(ax2, ax3, 'h')\n",
    "connect_by_fancyarrow(ax3, ax4, 'h')\n",
    "\n",
    "plot_uv1(ax2, aa, arrowstyle=arrow_style, shrinkA=0, shrinkB=0, ec='none')\n",
    "plot_uv2(ax3, aa, arrowstyle=arrow_style, shrinkA=0, shrinkB=0, ec='none')\n",
    "\n",
    "auto_letters([ax1, ax2, ax3, ax4], fontdict=font_letter)\n",
    "\n",
    "ax = fig.add_axes([0, 0, 1 , 1], fc=[0, 0, 0, 0])\n",
    "ax.set_xlim(0, 1)\n",
    "ax.set_ylim(0, 1)  \n",
    "\n",
    "ax.axis('off') \n",
    "\n",
    "\n",
    "ax.text(x=0.1125, y=0.1317, s='Extract motifs', ha='center', va='center', transform=ax.transAxes, fontsize=9)\n",
    "ax.text(x=0.3597, y=0.1317, s='Identify '+r'$motif$'+'-'+'$cells$', ha='center', va='center', transform=ax.transAxes,fontsize=9)\n",
    "ax.text(x=0.6028, y=0.1317, s='Connect '+r'$motif$'+'-'+'$cells$', ha='center', va='center', transform=ax.transAxes,fontsize=9)\n",
    "ax.text(x=0.8847, y=0.1317, s= 'Construct hierarchy', ha='center', va='center', transform=ax.transAxes,fontsize=9)\n",
    "\n",
    "#Cursor(ax)"
   ]
  },
  {
   "cell_type": "code",
   "execution_count": null,
   "id": "3ce3b3eb-c334-40ee-8741-a5350988cfff",
   "metadata": {},
   "outputs": [],
   "source": []
  },
  {
   "cell_type": "code",
   "execution_count": 12,
   "id": "50d2f614-aa66-49a3-8c0e-5523a6c140d9",
   "metadata": {},
   "outputs": [],
   "source": [
    "fig.savefig('hierarchy.pdf', dpi=500) "
   ]
  },
  {
   "cell_type": "code",
   "execution_count": null,
   "id": "4d966f89-7e7d-4e6b-b013-471c4dd55abc",
   "metadata": {},
   "outputs": [],
   "source": []
  },
  {
   "cell_type": "code",
   "execution_count": null,
   "id": "7a91c78f-638f-446f-b3d9-19f0c9e51956",
   "metadata": {},
   "outputs": [],
   "source": []
  },
  {
   "cell_type": "code",
   "execution_count": null,
   "id": "b4afba44-661e-4400-a187-01ab1eb0e980",
   "metadata": {},
   "outputs": [],
   "source": []
  },
  {
   "cell_type": "code",
   "execution_count": null,
   "id": "a06df42c-1318-4356-b449-748ffb9a867a",
   "metadata": {},
   "outputs": [],
   "source": []
  },
  {
   "cell_type": "code",
   "execution_count": null,
   "id": "c6b9c0ba-e4e6-453f-bf46-1c25c7c6b0ff",
   "metadata": {},
   "outputs": [],
   "source": []
  },
  {
   "cell_type": "code",
   "execution_count": null,
   "id": "91935e1c-4d27-4553-a160-6af5c232298c",
   "metadata": {},
   "outputs": [],
   "source": []
  }
 ],
 "metadata": {
  "kernelspec": {
   "display_name": "Python 3 (ipykernel)",
   "language": "python",
   "name": "python3"
  },
  "language_info": {
   "codemirror_mode": {
    "name": "ipython",
    "version": 3
   },
   "file_extension": ".py",
   "mimetype": "text/x-python",
   "name": "python",
   "nbconvert_exporter": "python",
   "pygments_lexer": "ipython3",
   "version": "3.9.7"
  }
 },
 "nbformat": 4,
 "nbformat_minor": 5
}
