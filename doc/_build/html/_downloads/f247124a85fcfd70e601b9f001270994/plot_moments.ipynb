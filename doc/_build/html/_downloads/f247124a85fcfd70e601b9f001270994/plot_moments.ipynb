{
  "cells": [
    {
      "cell_type": "code",
      "execution_count": null,
      "metadata": {
        "collapsed": false
      },
      "outputs": [],
      "source": [
        "%matplotlib inline"
      ]
    },
    {
      "cell_type": "markdown",
      "metadata": {},
      "source": [
        "\nPlotting Zernike Moments\n===================================\n\nthis is only testing\n"
      ]
    },
    {
      "cell_type": "code",
      "execution_count": null,
      "metadata": {
        "collapsed": false
      },
      "outputs": [],
      "source": [
        "import numpy as np\nimport matplotlib.pyplot as plt\nfrom stempy.feature import ZPs\nfrom scipy.ndimage import gaussian_filter\n\ndef generate_h_axes(fig, n=2, y=0.1, left=1 / 15, right=1 / 30, wspace=0.25, ratios=None):\n    if ratios == None:\n        ratios = np.ones(n)\n    elif np.isscalar(ratios):\n        ratios = np.array([ratios]*n)\n    elif np.iterable(ratios):\n        ratios = np.array(ratios)\n    width, height = fig.get_size_inches()\n    ratio = width / height\n\n    N = ratios.sum() + ratios.sum() / n * wspace * (n - 1)\n    dx = (1 - left - right) / N\n    ws = dx * ratios.sum() / n * wspace\n    W = np.array([e * dx for e in ratios])\n    h = W.min()\n    axes = [fig.add_axes([left + W[0:i].sum() + i * ws, y, W[i], h * ratio]) for i in range(n)]\n    return axes\n\n\ndef plot_image(ax, img, clip=False, **kwargs):\n    h, w = img.shape[0:2]\n    im = ax.imshow(img, **kwargs)\n    ax.axis('off')\n    if clip == True:\n        patch = plt.Circle((w / 2 - 0.5, h / 2 - 0.5), radius=(h + w) / 4 - 2, transform=ax.transData)\n        im.set_clip_path(patch)\n\ndef rotation_matrix(angle):\n    angle = np.radians(angle)\n    s = np.sin(angle)\n    c = np.cos(angle)\n    R = np.array([(c, -s), (s, c)])\n    return process_zeros(R)\n\n\ndef process_zeros(data, eps=1e-9):\n    data[np.abs(data) < eps] = 0.0\n    return data\n\n\ndef rotate(pts, angle):\n    pts = np.array(pts)\n    R = rotation_matrix(angle)\n    return np.dot(pts, R)\n\ndef generate_synthetic_data():\n    s = 128\n    a = np.zeros(shape=(s, s))\n    \n    p = (0, s/3.5)\n    sigma = s/20\n    pts = np.array([rotate(p, i) for i in np.arange(0, 360, 120)]+[(0, 0)])\n    pts[:, 0] += s//2\n    pts[:, 1] += s//2\n    for (x, y) in pts.astype(np.int):\n        a[y, x] = 1\n    a = gaussian_filter(a, sigma)\n    return a/a.max()*255\n\ndef shift_ax(ax, left=0, right=0, upper=0, lower=0):\n    bbox = ax.get_position()\n    x0, y0, w, h = bbox.x0, bbox.y0, bbox.width, bbox.height\n    x = x0 + right - left\n    y = y0 + upper - lower\n    ax.set_position([x, y, w, h])\n\ndef plot_decomposiiton(axes, ps, ss):\n    zz = np.array(ps[1:])\n    v_min = zz.min()\n    v_max = zz.max()\n    for i, ax in enumerate(axes):\n        ax.axis('off')\n        if i == 0:\n            plot_image(ax, ps[i])\n        if i == 1:\n            shift_ax(ax, left=0.02)\n        if i == 2:\n            shift_ax(ax, left=0.03)\n        if i == 3:\n            shift_ax(ax, left=0.05)\n        if i != 0:\n            plot_image(ax, ps[i], clip=True, vmin=v_min, vmax=v_max)\n            ax.text(-0.1, 0.5, ss[i], transform=ax.transAxes, va='center', ha='right', fontsize=8)\n\ndef plot_moments(ax, y, color=None):\n    if color is None:\n        color = 'C0'\n    x = np.arange(0, len(y))\n    y = y/(np.abs(y).max())\n    markerline, stemlines, baseline = ax.stem(x, y)\n    ax.set_ylim(-1.1, 1.1)\n    ax.axhline(y=0.0, color='#0a0a0a', linestyle='-', alpha=0.7, lw=0.5)\n    ax.tick_params(which=\"major\", labelsize=10, direction='in', length=3, pad=1)\n    \n    markerline.set_mfc(color)\n    markerline.set_mec(color)\n    markerline.set_ms(2)\n    for line in stemlines:\n        line.set_color(color)\n    baseline.set_visible(False)\n    ax.set_ylabel('Normalized  '+r'$A_{n}^{m}$'+' [a.u.]')\n    ax.set_xlabel(r'$j$')\n\n# generate synthetic image\nimg = generate_synthetic_data()\n\nzps = ZPs(n_max=10, size=img.shape[0])\ny = zps.fit_transform(img)\n\nss = ['$A_{0}^{0}$', r'$\\approx A_{0}^{0}$', r'$+A_{1}^{-1}$', r'$+A_{1}^{1}$', r'$+\\cdot\\cdot\\cdot+A_{10}^{10}$']\n\nfig = plt.figure(figsize=(7.2, 7.2/2), facecolor='#fcfcfc')\naxes = generate_h_axes(fig, n=5, y=0.65, left=1/15, right=1/30, wspace=0.55, ratios=1)\n\nps = [img]+[e for e in zps.data]\n\nplot_decomposiiton(axes, ps, ss)\n\nleft = 0.15\nax = fig.add_axes([left, 0.15, 1-left-1/30, (1-left-1/30)*0.5])\nplot_moments(ax, y)"
      ]
    }
  ],
  "metadata": {
    "kernelspec": {
      "display_name": "Python 3",
      "language": "python",
      "name": "python3"
    },
    "language_info": {
      "codemirror_mode": {
        "name": "ipython",
        "version": 3
      },
      "file_extension": ".py",
      "mimetype": "text/x-python",
      "name": "python",
      "nbconvert_exporter": "python",
      "pygments_lexer": "ipython3",
      "version": "3.7.7"
    }
  },
  "nbformat": 4,
  "nbformat_minor": 0
}