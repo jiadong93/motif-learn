{
  "cells": [
    {
      "cell_type": "code",
      "execution_count": null,
      "metadata": {
        "collapsed": false
      },
      "outputs": [],
      "source": [
        "%matplotlib inline"
      ]
    },
    {
      "cell_type": "markdown",
      "metadata": {},
      "source": [
        "\nPlotting Zernike Polynomials\n============================\n\nplot Zernike Polynomials\n"
      ]
    },
    {
      "cell_type": "code",
      "execution_count": null,
      "metadata": {
        "collapsed": false
      },
      "outputs": [],
      "source": [
        "import numpy as np\nimport matplotlib.pyplot as plt\nfrom stempy.feature import ZPs\n\ndef generate_h_axes(fig, n=2, y=0.1, left=1 / 15, right=1 / 30, wspace=0.25, ratios=None):\n    if ratios == None:\n        ratios = np.ones(n)\n    elif np.isscalar(ratios):\n        ratios = np.array([ratios]*n)\n    elif np.iterable(ratios):\n        ratios = np.array(ratios)\n    width, height = fig.get_size_inches()\n    ratio = width / height\n\n    N = ratios.sum() + ratios.sum() / n * wspace * (n - 1)\n    dx = (1 - left - right) / N\n    ws = dx * ratios.sum() / n * wspace\n    W = np.array([e * dx for e in ratios])\n    h = W.min()\n    axes = [fig.add_axes([left + W[0:i].sum() + i * ws, y, W[i], h * ratio]) for i in range(n)]\n    return axes\n\ndef get_axes(axes, dy=0.03):\n    axes_ = []\n    for i in range(len(axes)-1):\n        ax1, ax2 = axes[i], axes[i+1]\n        x = (ax1.get_position().x0 + ax2.get_position().x0)/2\n        h = ax1.get_position().height\n        y = ax1.get_position().y0 + h + dy\n        w = ax1.get_position().width\n        axes_.append(fig.add_axes([x, y, w, h]))\n    return axes_\n\ndef plot_image(ax, img, clip=False, **kwargs):\n    h, w = img.shape[0:2]\n    im = ax.imshow(img, **kwargs)\n    ax.axis('off')\n    if clip == True:\n        patch = plt.Circle((w / 2 - 0.5, h / 2 - 0.5), radius=(h + w) / 4 - 2, transform=ax.transData)\n        im.set_clip_path(patch)\n        \ndef zp_j2nm(j):\n    if not np.isscalar(j):\n        j = np.array(j)\n    n = (np.ceil((-3 + np.sqrt(9 + 8 * j)) / 2)).astype(np.int)\n    m = 2 * j - n * (n + 2)\n    return np.array([n, m]).T\n\nfig = plt.figure(figsize=(3.6, 3.6), facecolor='#fcfcfc')\naxes5 = generate_h_axes(fig, n=5, y=0.1, left=1/15, right=1/30, wspace=0.25, ratios=1)\n\naxes4 = get_axes(axes5)\naxes3 = get_axes(axes4)\naxes2 = get_axes(axes3)\naxes1 = get_axes(axes2)\n\naxes = axes1+axes2+axes3+axes4+axes5\n\nzps = ZPs(n_max=5, size=256)\ndata = zps.data\nvmin, vmax = data.min(), data.max()\n\n# https://stackoverflow.com/a/33286367/5855131\nss = [r'$Z_{n}^{{{m}}}$'.format(n=n, m=m) for (n, m) in zp_j2nm(range(21))]\n\nfor i, (e, ax) in enumerate(zip(data, axes)):\n    plot_image(ax, e, clip=True, vmin=vmin, vmax=vmax)\n    ax.text(x=0, y=1, s=ss[i], fontsize=8)"
      ]
    }
  ],
  "metadata": {
    "kernelspec": {
      "display_name": "Python 3",
      "language": "python",
      "name": "python3"
    },
    "language_info": {
      "codemirror_mode": {
        "name": "ipython",
        "version": 3
      },
      "file_extension": ".py",
      "mimetype": "text/x-python",
      "name": "python",
      "nbconvert_exporter": "python",
      "pygments_lexer": "ipython3",
      "version": "3.7.7"
    }
  },
  "nbformat": 4,
  "nbformat_minor": 0
}